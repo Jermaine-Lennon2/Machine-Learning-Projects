{
  "cells": [
    {
      "cell_type": "markdown",
      "metadata": {
        "id": "view-in-github"
      },
      "source": [
        "<a href=\"https://colab.research.google.com/github/google/applied-machine-learning-intensive/blob/master/content/02_data/06_project_data_processing/colab.ipynb\" target=\"_parent\"><img src=\"https://colab.research.google.com/assets/colab-badge.svg\" alt=\"Open In Colab\"/></a>"
      ]
    },
    {
      "cell_type": "markdown",
      "metadata": {
        "id": "jx_FnF6HFucc"
      },
      "source": [
        "#### Copyright 2019 Google LLC."
      ]
    },
    {
      "cell_type": "code",
      "execution_count": null,
      "metadata": {
        "id": "cSdG7cSNFro-",
        "vscode": {
          "languageId": "python"
        }
      },
      "outputs": [],
      "source": [
        "# Licensed under the Apache License, Version 2.0 (the \"License\");\n",
        "# you may not use this file except in compliance with the License.\n",
        "# You may obtain a copy of the License at\n",
        "#\n",
        "# https://www.apache.org/licenses/LICENSE-2.0\n",
        "#\n",
        "# Unless required by applicable law or agreed to in writing, software\n",
        "# distributed under the License is distributed on an \"AS IS\" BASIS,\n",
        "# WITHOUT WARRANTIES OR CONDITIONS OF ANY KIND, either express or implied.\n",
        "# See the License for the specific language governing permissions and\n",
        "# limitations under the License."
      ]
    },
    {
      "cell_type": "markdown",
      "metadata": {
        "id": "_FdRu8E0F6EJ"
      },
      "source": [
        "# Dataset Exploration\n"
      ]
    },
    {
      "cell_type": "markdown",
      "metadata": {
        "id": "Mm5d3zEpKE00"
      },
      "source": [
        "For this project you will be given a dataset and an associated problem. Over the course of the day, you will explore the dataset and train the best model you can in order to solve the problem. At the end of the day, you will give a short presentation about your model and solution."
      ]
    },
    {
      "cell_type": "markdown",
      "metadata": {
        "id": "Nb9YD_6cWefp"
      },
      "source": [
        "### Deliverables\n",
        "\n",
        "1. A **copy of this Colab notebook** containing your code and responses to the ethical considerations below.\n",
        "1. At the end of the day, we will ask you and your group to stand in front of the class and give a brief **presentation about what you have done**. "
      ]
    },
    {
      "cell_type": "markdown",
      "metadata": {
        "id": "JzEoFw-TPi7r"
      },
      "source": [
        "## Team\n",
        "\n",
        "Please enter your team members' names in the placeholders in this text area:\n",
        "\n",
        "*   *Jermaine Lennon*\n",
        "*   *Nasir Barnes*\n",
        "*   *Samuel Adeleye*\n",
        "*   *Antoine Teague*\n",
        "\n",
        "\n",
        "\n"
      ]
    },
    {
      "cell_type": "markdown",
      "metadata": {
        "id": "a0-9HPLU43Xf"
      },
      "source": [
        "# Exercises"
      ]
    },
    {
      "cell_type": "markdown",
      "metadata": {
        "id": "8rqFJ-Ch4_mU"
      },
      "source": [
        "## Exercise 1: Coding"
      ]
    },
    {
      "cell_type": "markdown",
      "metadata": {
        "id": "cr12EFb2WQym"
      },
      "source": [
        "[Kaggle](http://www.kaggle.com) hosts a [dataset containing US airline on-time statistics and delay data](https://www.kaggle.com/giovamata/airlinedelaycauses) from the [US Department of Transportation's Bureau of Transportation Statistics (BTS)](https://www.bts.gov/). In this project, we will **use flight statistics data to gain insights into US airports' and airlines' flights in 2008.**\n",
        "\n",
        "You are free to use any toolkit we've covered in class to solve the problem (e.g. Pandas, Matplotlib, Seaborn).\n",
        "\n",
        "Demonstrations of competency:\n",
        "1. Get the data into a Python object.\n",
        "1. Inspect the data for each column's data type and summary statistics.\n",
        "1. Explore the data programmatically and visually.\n",
        "1. Produce an answer and visualization, where applicable, for at least three questions from the list below, and discuss any relevant insights. Feel free to generate and answer some of your own questions. \n",
        "\n",
        "  * Which U.S. airport is the busiest airport? You can decide how you'd like to measure \"business\" (e.g., annually, monthly, daily).\n",
        "  * Of the 2008 flights that are *actually delayed*, think about:\n",
        "    * Which 10 U.S. airlines have the most delays?\n",
        "    * Which 10 U.S. airlines have the longest average delay time?\n",
        "    * Which 10 U.S. airports have the most delays?\n",
        "    * Which 10 U.S. airports have the longest average delay time?\n",
        "  * More analysis:\n",
        "    * Are there patterns on how flight delays are distributed across different hours of the day?\n",
        "    * How about across months or seasons? Can you think of any reasons for these seasonal delays?\n",
        "    * If you look at average delay time or number of delays by airport, does the data show linearity? Does any subset of the data show linearity?\n",
        "    * Add reason for delay to your delay analysis above.\n",
        "    * Examine flight frequencies, delays, time of day or year, etc. for a specific airport, airline or origin-arrival airport pair."
      ]
    },
    {
      "cell_type": "markdown",
      "metadata": {
        "id": "WgFU38b7rfbv"
      },
      "source": [
        "### Student Solution"
      ]
    },
    {
      "cell_type": "code",
      "execution_count": null,
      "metadata": {
        "id": "wOdOl0qqPyL-",
        "vscode": {
          "languageId": "python"
        }
      },
      "outputs": [],
      "source": [
        "# Use as many text and code blocks as you need to create your solution.\n",
        "# Make sure to take notes and add lots of code comments, so your instructor\n",
        "# understands what you are doing!\n",
        "\n",
        "print(\"Good luck!\")"
      ]
    },
    {
      "cell_type": "markdown",
      "source": [
        "#### Cleaning Data"
      ],
      "metadata": {
        "id": "7neYzA5-HdRN"
      }
    },
    {
      "cell_type": "markdown",
      "source": [
        ""
      ],
      "metadata": {
        "id": "1Q1Dbf2qAUJM"
      }
    },
    {
      "cell_type": "code",
      "source": [
        "#Importing Data Files\n",
        "import pandas as pd\n",
        "\n",
        "df = pd.read_csv (r'DelayedFlights.csv')\n",
        "\n",
        "df"
      ],
      "metadata": {
        "id": "FPuZhaeYEPbV"
      },
      "execution_count": null,
      "outputs": []
    },
    {
      "cell_type": "code",
      "source": [
        "#Describing Data\n",
        "df.describe(include = 'all')"
      ],
      "metadata": {
        "id": "wuyPN-3uQOIv"
      },
      "execution_count": null,
      "outputs": []
    },
    {
      "cell_type": "code",
      "source": [
        "df.columns"
      ],
      "metadata": {
        "id": "rTOxnUe2QeTB"
      },
      "execution_count": null,
      "outputs": []
    },
    {
      "cell_type": "code",
      "source": [
        "df.columns = ['Unnamed' , 'Year', 'Month', 'Date of Month', 'Day of Week', \n",
        "              'Dep Time', 'CRS Dep Time', 'Arr Time', 'CRS Arr Time', \n",
        "              'Unique Carrier', 'Flight Num' , 'Trail Num', \n",
        "              'Actual Elapsed Time', 'CRS Elapsed Time', 'Airtime Arr Delay', \n",
        "              'Dep Delay', 'Origin', 'Dest', 'Distance',\n",
        "              'Taxi in', 'Taxi out', 'Cancelled', 'Cancelled Code', \n",
        "              'Diverted', 'Carrier Delay', 'Weather Delay', 'NAS Delay', \n",
        "              'Security Delay', 'Late Aircraft Delay', '--'] \n",
        "df"
      ],
      "metadata": {
        "id": "jvs3OLJkTqyI"
      },
      "execution_count": null,
      "outputs": []
    },
    {
      "cell_type": "code",
      "source": [
        "#Inspecting Year column\n",
        "print(df['Year'].isna().any())\n",
        "print(df['Year'].unique().shape)\n",
        "for location in sorted(df['Year'].unique()):\n",
        "  print(location)\n",
        "\n",
        "#This tells us that we're looking at the year of 2008"
      ],
      "metadata": {
        "id": "UW1c6xU1olLS"
      },
      "execution_count": null,
      "outputs": []
    },
    {
      "cell_type": "code",
      "source": [
        "#Inspecting Month column\n",
        "print(df['Month'].isna().any())\n",
        "print(df['Month'].unique().shape)\n",
        "for location in sorted(df['Month'].unique()):\n",
        "  print(location)\n"
      ],
      "metadata": {
        "id": "UusDnTMUqghh"
      },
      "execution_count": null,
      "outputs": []
    },
    {
      "cell_type": "code",
      "source": [
        "print(df['Date of Month'].isna().any())\n",
        "print(df['Date of Month'].unique().shape)\n",
        "for location in sorted(df['Date of Month'].unique()):\n",
        "  print(location)\n",
        "#The Days range from 1-31\n"
      ],
      "metadata": {
        "id": "A1hD_bR7roXE"
      },
      "execution_count": null,
      "outputs": []
    },
    {
      "cell_type": "code",
      "source": [
        "print(df['Day of Week'].isna().any())\n",
        "print(df['Day of Week'].unique().shape)\n",
        "for location in sorted(df['Day of Week'].unique()):\n",
        "  print(location)"
      ],
      "metadata": {
        "id": "kVTdEouqtGKo"
      },
      "execution_count": null,
      "outputs": []
    },
    {
      "cell_type": "code",
      "source": [
        "print(df['Dep Time'].isna().any())\n",
        "df[df['Dep Time'].isna()].count()\n",
        "df[df['Dep Time'].isna()]\n",
        "df = df.drop(99553)\n"
      ],
      "metadata": {
        "id": "uZdxbXV4tyIb"
      },
      "execution_count": null,
      "outputs": []
    },
    {
      "cell_type": "code",
      "source": [
        "print(df['Dep Time'].isna().any())\n"
      ],
      "metadata": {
        "id": "-b5bqRPXvnXS"
      },
      "execution_count": null,
      "outputs": []
    },
    {
      "cell_type": "code",
      "source": [
        "print(df['CRS Dep Time'].isna().any())\n",
        "print(df['CRS Dep Time'].unique().shape)\n",
        "for location in sorted(df['CRS Dep Time'].unique()):\n",
        "  print(location)"
      ],
      "metadata": {
        "id": "3tAgBrdVvwkK"
      },
      "execution_count": null,
      "outputs": []
    },
    {
      "cell_type": "code",
      "source": [
        "#We remove Arr Time because there was not enough data\n",
        "print(df['Arr Time'].isna().any())\n",
        "print(df[df['Arr Time'].isna()].count())\n",
        "df[df['Arr Time'].isna()]\n",
        "df.drop(\"Arr Time\", axis=1, inplace=True)"
      ],
      "metadata": {
        "id": "0M41TPIdv9X8"
      },
      "execution_count": null,
      "outputs": []
    },
    {
      "cell_type": "code",
      "source": [
        "print(df['CRS Arr Time'].isna().any())\n",
        "print(df['CRS Arr Time'].unique().shape)\n",
        "for location in sorted(df['CRS Arr Time'].unique()):\n",
        "  print(location)"
      ],
      "metadata": {
        "id": "L5Wkh9vAwuym"
      },
      "execution_count": null,
      "outputs": []
    },
    {
      "cell_type": "code",
      "source": [
        "print(df['Unique Carrier'].isna().any())\n",
        "print(df['Unique Carrier'].unique().shape)\n"
      ],
      "metadata": {
        "id": "WlOjQnDXyI_K"
      },
      "execution_count": null,
      "outputs": []
    },
    {
      "cell_type": "code",
      "source": [
        "print(df['Flight Num'].isna().any())\n",
        "print(df['Flight Num'].unique().shape)\n",
        "#Too much unique shapes to look through but this column tells us the number of\n",
        "# the flights\n"
      ],
      "metadata": {
        "id": "d25YTBCdydOA"
      },
      "execution_count": null,
      "outputs": []
    },
    {
      "cell_type": "code",
      "source": [
        "print(df['Trail Num'].isna().any())\n",
        "print(df['Trail Num'].unique().shape)"
      ],
      "metadata": {
        "id": "jIUQDIBxyqdX"
      },
      "execution_count": null,
      "outputs": []
    },
    {
      "cell_type": "code",
      "source": [
        "print(df['Actual Elapsed Time'].isna().any())\n",
        "print(df[df['Actual Elapsed Time'].isna()].count())\n",
        "df['Actual Elapsed Time'].isna()\n",
        "df.drop(\"Actual Elapsed Time\", axis=1, inplace=True)"
      ],
      "metadata": {
        "id": "7WaQ1HR_0Z-f"
      },
      "execution_count": null,
      "outputs": []
    },
    {
      "cell_type": "code",
      "source": [
        "print(df['CRS Elapsed Time'].isna().any())\n",
        "print(df['CRS Elapsed Time'].unique().shape)\n",
        "for location in sorted(df['CRS Elapsed Time'].unique()):\n",
        "  print(location)\n",
        "\n",
        "#FOR FUTURE REFRENCE: theres an 'NAN' in the list"
      ],
      "metadata": {
        "id": "idLchYs-2tbY"
      },
      "execution_count": null,
      "outputs": []
    },
    {
      "cell_type": "code",
      "source": [
        "df.columns"
      ],
      "metadata": {
        "id": "fl303cmd3a96"
      },
      "execution_count": null,
      "outputs": []
    },
    {
      "cell_type": "code",
      "source": [
        "print(df['Airtime Arr Delay'].isna().any())\n",
        "print(df[df['Airtime Arr Delay'].isna()].count())\n",
        "df['Airtime Arr Delay'].isna()\n",
        "df.drop(\"Airtime Arr Delay\", axis=1, inplace=True)\n"
      ],
      "metadata": {
        "id": "Z79kVVBE4vUM"
      },
      "execution_count": null,
      "outputs": []
    },
    {
      "cell_type": "code",
      "source": [
        "#Removing Dep Delay Column\n",
        "print(df['Dep Delay'].isna().any())\n",
        "df[df['Dep Delay'].isna()].count()\n",
        "print(df['Dep Delay'].isna())\n",
        "df.drop(\"Dep Delay\", axis=1, inplace=True)"
      ],
      "metadata": {
        "id": "Rc6RAKUI5pEC"
      },
      "execution_count": null,
      "outputs": []
    },
    {
      "cell_type": "code",
      "source": [
        "df.columns"
      ],
      "metadata": {
        "id": "aaxaZn9k45FH"
      },
      "execution_count": null,
      "outputs": []
    },
    {
      "cell_type": "code",
      "source": [
        "print(df['Origin'].isna().any())\n",
        "print(df['Origin'].unique().shape)\n",
        "for location in sorted(df['Origin'].unique()):\n",
        "  print(location)"
      ],
      "metadata": {
        "id": "9S0cpl3x5BSm"
      },
      "execution_count": null,
      "outputs": []
    },
    {
      "cell_type": "code",
      "source": [
        "df['Dest'].isna().any()\n",
        "df[df['Dest'].isna()].count()\n",
        "df['Dest'].isna()\n",
        "df.drop(\"Dest\", axis=1, inplace=True)"
      ],
      "metadata": {
        "id": "KUcRWVV_58Ja"
      },
      "execution_count": null,
      "outputs": []
    },
    {
      "cell_type": "code",
      "source": [
        "df.columns"
      ],
      "metadata": {
        "id": "HV0lc7CM6WI2"
      },
      "execution_count": null,
      "outputs": []
    },
    {
      "cell_type": "code",
      "source": [
        "df['Distance'].isna().any()\n",
        "print(df['Distance'].unique().shape)\n"
      ],
      "metadata": {
        "id": "vttNKaoO68lr"
      },
      "execution_count": null,
      "outputs": []
    },
    {
      "cell_type": "code",
      "source": [
        "df['Taxi in'].isna().any()\n",
        "print(df['Taxi in'].unique().shape)\n"
      ],
      "metadata": {
        "id": "5DpWA7-t7eSe"
      },
      "execution_count": null,
      "outputs": []
    },
    {
      "cell_type": "code",
      "source": [
        "df['Taxi out'].isna().any()\n",
        "df[df['Taxi out'].isna()].count()\n",
        "df['Taxi out'].isna()\n",
        "df.drop(\"Taxi out\", axis=1, inplace=True)"
      ],
      "metadata": {
        "id": "qWNrApIl78v-"
      },
      "execution_count": null,
      "outputs": []
    },
    {
      "cell_type": "code",
      "source": [
        "df.columns"
      ],
      "metadata": {
        "id": "glDwsAvW8M6h"
      },
      "execution_count": null,
      "outputs": []
    },
    {
      "cell_type": "code",
      "source": [
        "df['Cancelled'].isna().any()\n",
        "df[df['Cancelled'].isna()].count()\n",
        "df['Cancelled'].isna()\n",
        "df.drop('Cancelled', axis=1, inplace=True)"
      ],
      "metadata": {
        "id": "LFCTrIx88PqI"
      },
      "execution_count": null,
      "outputs": []
    },
    {
      "cell_type": "code",
      "source": [
        "df.columns"
      ],
      "metadata": {
        "id": "3SKXki4d86L6"
      },
      "execution_count": null,
      "outputs": []
    },
    {
      "cell_type": "code",
      "source": [
        "df['Cancelled Code'].isna().any()\n",
        "print(df['Cancelled Code'].unique().shape)\n",
        "for location in sorted (df['Cancelled Code'].unique()):\n",
        "  print(location)"
      ],
      "metadata": {
        "id": "KUF1ufaZ89ku"
      },
      "execution_count": null,
      "outputs": []
    },
    {
      "cell_type": "code",
      "source": [
        "df['Diverted'].isna().any()\n",
        "print(df['Diverted'].unique().shape)\n"
      ],
      "metadata": {
        "id": "onwrJlY_-Rsv"
      },
      "execution_count": null,
      "outputs": []
    },
    {
      "cell_type": "code",
      "source": [
        "df['Carrier Delay'].isna().any()\n",
        "print(df['Carrier Delay'].unique().shape)\n",
        "for location in sorted (df['Carrier Delay'].unique()):\n",
        "  print(location)\n",
        "df.dropna(subset=['Carrier Delay'], inplace=True)\n",
        "df.drop('Carrier Delay', axis=1, inplace=True)"
      ],
      "metadata": {
        "id": "drUwkvwF-eht"
      },
      "execution_count": null,
      "outputs": []
    },
    {
      "cell_type": "code",
      "source": [
        "df['Weather Delay'].isna().any()\n",
        "df[df['Weather Delay'].isna()].count()\n",
        "df['Weather Delay'].isna() \n",
        "df.dropna(subset=['Weather Delay'], inplace=True)\n",
        "df"
      ],
      "metadata": {
        "id": "sqVP6uNL-o_U"
      },
      "execution_count": null,
      "outputs": []
    },
    {
      "cell_type": "code",
      "source": [
        "df.columns"
      ],
      "metadata": {
        "id": "Jhg-Q5dgGaqv"
      },
      "execution_count": null,
      "outputs": []
    },
    {
      "cell_type": "code",
      "source": [
        "df['NAS Delay'].isna().any()\n",
        "print(df['NAS Delay'].unique().shape)\n",
        "for location in sorted (df['NAS Delay'].unique()):\n",
        "  print(location)"
      ],
      "metadata": {
        "id": "VTz1WX8HCgHg"
      },
      "execution_count": null,
      "outputs": []
    },
    {
      "cell_type": "code",
      "source": [
        "df['Security Delay'].isna().any()\n",
        "print(df['Security Delay'].unique().shape)\n",
        "for location in sorted (df['Security Delay'].unique()):\n",
        "  print(location)"
      ],
      "metadata": {
        "id": "VqXEt1KNGofl"
      },
      "execution_count": null,
      "outputs": []
    },
    {
      "cell_type": "code",
      "source": [
        "df['Late Aircraft Delay'].isna().any()\n",
        "print(df['Late Aircraft Delay'].unique().shape)\n",
        "for location in sorted (df['Late Aircraft Delay'].unique()):\n",
        "  print(location)"
      ],
      "metadata": {
        "id": "O8kojOMIG0hH"
      },
      "execution_count": null,
      "outputs": []
    },
    {
      "cell_type": "code",
      "source": [
        "df['--'].isna().any()\n",
        "print(df['--'].unique().shape)\n",
        "for location in sorted (df['--'].unique()):\n",
        "  print(location)"
      ],
      "metadata": {
        "id": "9TWoxg9nHG1m"
      },
      "execution_count": null,
      "outputs": []
    },
    {
      "cell_type": "code",
      "source": [
        "df = df.drop(columns=['Unnamed', '--'])\n",
        "df"
      ],
      "metadata": {
        "id": "2WVm6DtcHSSU"
      },
      "execution_count": null,
      "outputs": []
    },
    {
      "cell_type": "code",
      "source": [
        "#In this code we combine the delay columns\n",
        "df['new_column'] = df['Weather Delay'] + df['NAS Delay']\n",
        "df['new_column1'] = df['new_column'] + df['Late Aircraft Delay']\n",
        "df['Delays'] = df['new_column1'] + df['Security Delay']\n",
        "df.drop('Weather Delay', axis=1, inplace=True)\n",
        "df.drop('NAS Delay', axis=1, inplace=True)\n",
        "df.drop('Security Delay', axis=1, inplace=True)\n",
        "df.drop('Late Aircraft Delay', axis=1, inplace=True)\n",
        "df.drop('new_column', axis=1, inplace=True)\n",
        "df.drop('new_column1', axis=1, inplace=True)\n",
        "#df.drop('new_column2', axis=1, inplace=True)\n"
      ],
      "metadata": {
        "id": "HDoY_FOxIN4-"
      },
      "execution_count": null,
      "outputs": []
    },
    {
      "cell_type": "code",
      "source": [
        "df.dropna(inplace=True)\n",
        "df"
      ],
      "metadata": {
        "id": "ZdBxHXxproiM"
      },
      "execution_count": null,
      "outputs": []
    },
    {
      "cell_type": "code",
      "source": [
        "#Examining Delays Column\n",
        "df['Delays'].isna().any()\n",
        "print(df['Delays'].unique().shape)\n",
        "for location in sorted (df['Delays'].unique()):\n",
        "  print(location)"
      ],
      "metadata": {
        "id": "o5-kKmnnrt6K"
      },
      "execution_count": null,
      "outputs": []
    },
    {
      "cell_type": "markdown",
      "source": [
        "####  Question 1"
      ],
      "metadata": {
        "id": "imwAtPKW_IFO"
      }
    },
    {
      "cell_type": "markdown",
      "source": [
        "**Which 10 U.S. airlines have the most delays?**\n"
      ],
      "metadata": {
        "id": "_J0K4fOel6dc"
      }
    },
    {
      "cell_type": "code",
      "source": [
        "#Creating a Data Frame with Distance and Delays \n",
        "aggregation_functions = {'Delays': 'sum'}\n",
        "df_new = df.groupby(df['Distance']).aggregate(aggregation_functions)\n",
        "df_new = df_new.reset_index()\n",
        "df_new = df_new.sort_values(by='Delays')\n",
        "df_new"
      ],
      "metadata": {
        "id": "YXS_xtMGrzvZ"
      },
      "execution_count": null,
      "outputs": []
    },
    {
      "cell_type": "code",
      "source": [
        "#Inspect New Data\n",
        "for Delays in sorted(df_new['Delays'].unique()):\n",
        "  print(Delays)"
      ],
      "metadata": {
        "id": "QEmNR6aer2Ea"
      },
      "execution_count": null,
      "outputs": []
    },
    {
      "cell_type": "code",
      "source": [
        "import pandas as pd\n",
        "import matplotlib.pyplot as plt\n",
        "import numpy as np\n",
        "import seaborn as sns\n",
        "\n",
        "\n",
        "\n",
        "Delays = df_new['Delays'].tail(10)\n",
        "\n",
        "Distance = df_new['Distance'].tail(10)\n",
        "plt.pie(Delays, labels= Distance)\n",
        "plt.show() \n",
        "\n",
        "#We used the pie chart to show the ten airports with the most delays. "
      ],
      "metadata": {
        "id": "4SouNuQK_tFl"
      },
      "execution_count": null,
      "outputs": []
    },
    {
      "cell_type": "markdown",
      "source": [
        "> *According to the data in the pie chart, ORD, ATL, SFO, EWR, DFW, LAX, LGA, DEN, LAS, and IAH airlines had the most delays in 2008.*"
      ],
      "metadata": {
        "id": "5jxTla-__Vbj"
      }
    },
    {
      "cell_type": "markdown",
      "source": [
        "#### Question 2"
      ],
      "metadata": {
        "id": "fs8m9RgcuIoJ"
      }
    },
    {
      "cell_type": "markdown",
      "source": [
        "**Which U.S. airport is the busiest airport?** "
      ],
      "metadata": {
        "id": "NBNEAvQXmHdx"
      }
    },
    {
      "cell_type": "code",
      "source": [
        "df['Distance'].value_counts()\n"
      ],
      "metadata": {
        "id": "ngdjT04BwEYG"
      },
      "execution_count": null,
      "outputs": []
    },
    {
      "cell_type": "code",
      "source": [
        "df_distance = df.groupby(['Distance']).size().sort_values(ascending=False)\n",
        "df_distance.head(1)"
      ],
      "metadata": {
        "id": "IKBqrnFsmZuw"
      },
      "execution_count": null,
      "outputs": []
    },
    {
      "cell_type": "markdown",
      "source": [
        "> *According to the dataset ORD airport is the U.S busiest airport.*"
      ],
      "metadata": {
        "id": "O94rJmX3nC8j"
      }
    },
    {
      "cell_type": "markdown",
      "source": [
        "#### Question 3"
      ],
      "metadata": {
        "id": "RUYfs7-QuSdF"
      }
    },
    {
      "cell_type": "markdown",
      "source": [
        "**If you look at average delay time or number of delays by airport, does the data show linearity?**"
      ],
      "metadata": {
        "id": "90z5za_Un6ad"
      }
    },
    {
      "cell_type": "code",
      "source": [
        "df_new"
      ],
      "metadata": {
        "id": "3iu6ymHBoaRD"
      },
      "execution_count": null,
      "outputs": []
    },
    {
      "cell_type": "code",
      "source": [
        "import matplotlib.pyplot as plt\n",
        "import numpy as np\n",
        "\n",
        "\n",
        "x = df_new['Distance'].head(10)\n",
        "\n",
        "y = df_new['Delays'].head(10)\n",
        "\n",
        "\n",
        "plt.scatter(x, y, color='blue');\n",
        "plt.show()"
      ],
      "metadata": {
        "id": "WwpVjaXBHsPU"
      },
      "execution_count": null,
      "outputs": []
    },
    {
      "cell_type": "code",
      "source": [
        "x = df_new['Distance'].tail(10)\n",
        "\n",
        "y = df_new['Delays'].tail(10)\n",
        "\n",
        "\n",
        "plt.scatter(x, y, color='blue');\n",
        "plt.show()"
      ],
      "metadata": {
        "id": "kdxVOshtI8Kg"
      },
      "execution_count": null,
      "outputs": []
    },
    {
      "cell_type": "markdown",
      "source": [
        "> *According to the data set, the number of delays by airports are not linearity.* "
      ],
      "metadata": {
        "id": "kpIVZ0CIJ7eW"
      }
    },
    {
      "cell_type": "markdown",
      "metadata": {
        "id": "2IY331QgBEm5"
      },
      "source": [
        "## Exercise 2: Ethical Implications"
      ]
    },
    {
      "cell_type": "markdown",
      "metadata": {
        "id": "uK8XzfVHLi1K"
      },
      "source": [
        "Even the most basic of data manipulations has the potential to affect segments of the population in different ways. It is important to consider how your code might positively and negatively affect different types of users.\n",
        "\n",
        "In this section of the project, you will reflect on the ethical implications of your analysis."
      ]
    },
    {
      "cell_type": "markdown",
      "metadata": {
        "id": "BqyxriWE53Du"
      },
      "source": [
        "### Student Solution"
      ]
    },
    {
      "cell_type": "markdown",
      "metadata": {
        "id": "_U3L0F9FLmwa"
      },
      "source": [
        "**Positive Impact**\n",
        "\n",
        "Your analysis is trying to solve a problem. Think about who will benefit if the problem is solved, and write a brief narrative about how the model will help."
      ]
    },
    {
      "cell_type": "markdown",
      "metadata": {
        "id": "g582VerYL0so"
      },
      "source": [
        "> *\\[The Airlines and Airports \\] will benefit because the data serves as a report card that tells companies how well or poorly they've been doing in each area. For example ORD has the largest amount of delays. So to improve ORD can see where delays are coming from and try to fix them. Customers who are interested in flying also benefit because they can see the probability of their flight getting delayed.*"
      ]
    },
    {
      "cell_type": "markdown",
      "metadata": {
        "id": "ALr018eQMuUw"
      },
      "source": [
        "**Negative Impact**\n",
        "\n",
        "Solutions usually don't have a universal benefit. Think about who might be negatively impacted by your analysis. This person or persons might not be directly considered in the analysis, but they might be impacted indirectly."
      ]
    },
    {
      "cell_type": "markdown",
      "metadata": {
        "id": "We8_W4WtNDLw"
      },
      "source": [
        "> *\\[Airlines with high amount of delays\\] will be negatively impacted because in the short run they may take a hit in business. While it is true that airlines and airpots may have the means to work on their delays. Customers may still decide to choose those airports and airlines that have a lesser chance of being deylayed.*"
      ]
    },
    {
      "cell_type": "markdown",
      "metadata": {
        "id": "07J-8ljpL85I"
      },
      "source": [
        "**Bias**\n",
        "\n",
        "Data analysis can be biased for many reasons. The bias can come from the data itself (e.g. sampling, data collection methods, available sources), and from the interpretation of the analysis outcome.\n",
        "\n",
        "Think of at least two ways that bias might have been introduced to your analysis and explain them below."
      ]
    },
    {
      "cell_type": "markdown",
      "metadata": {
        "id": "Jg_PSw3NMyFX"
      },
      "source": [
        "> *One source of bias in the analysis could be the year that the data was collected. Since the Data was colleceted over ten years ago a lot of the analysis may not hold true anymore. Something that could lead to more delays today that was relevent in 2008 is the Covid-19. Since the start of the pandemic there have been a few instances of major delays due lack of staff. Just recently theres be an influx of delays. Another source of bias in the analysis could be the time of day delays are more likely to happen. According to \"If You Want to Avoid Delays, This Is the Best Time of the Day to Fly\", an article written by Brooke Nelson, delays are more likely to happend around 6-7 p.m. The reason that could be a bias is those type of delays usually mean the plane would depart a few minutes after scheduled time. Those types of delays shouldn't be compared to the Delays such as Weather Delays. Also Weather Delays are dependent on the weather which airport and airline companies have no control of. Thats another source of delay that could heavily shift the dataset.*\n",
        "\n",
        ">> *source: https://www.rd.com/article/avoid-delays-best-time-day-to-fly/:*"
      ]
    },
    {
      "cell_type": "markdown",
      "metadata": {
        "id": "7j9AWdJLMTJI"
      },
      "source": [
        "**Changing the Dataset to Mitigate Bias**\n",
        "\n",
        "The most common way that an analysis is biased is when the dataset itself is biased. Look back at the input data that you used for your analysis. Think about how you might change something about the data to reduce bias in your model.\n",
        "\n",
        "What changes could you make to make your dataset less biased? Consider the data that you have, how and where that data was collected, and what other sources of data might be used to reduce bias.\n",
        "\n",
        "Write a summary of the changes that could be made to your input data."
      ]
    },
    {
      "cell_type": "markdown",
      "metadata": {
        "id": "yzzfrQ-xNZo5"
      },
      "source": [
        "> *Since the data has potential bias in the year the data was collected, we can adjust the dataset by collected data from airports and airlines from last 5-7 years ago. Doing this reduces the bias of the data being less relevent. If the airport that had least amount delays saw an increased in delays within the past 5-7 years then the airport and customers would have misleading information. When it comes to the afternoon delays, while collecting data it would be up to the data scientist whether or not they would take those delays as imporant as other delays in the dataset. Lastly, for weather delays I wouldn't even collect that because that's nothing the airports or airlines companies can control.* "
      ]
    },
    {
      "cell_type": "markdown",
      "metadata": {
        "id": "ePs6hpLiMNSx"
      },
      "source": [
        "**Changing the Analysis Questions to Mitigate Bias**\n",
        "\n",
        "Are there any ways to reduce bias by changing the analysis itself? This could include modifying the choice of questions you ask, the approach you take to answer the questions, etc.\n",
        "\n",
        "Write a brief summary of any changes that you could make to help reduce bias in your analysis."
      ]
    },
    {
      "cell_type": "markdown",
      "metadata": {
        "id": "bZ3PS8bRNRCv"
      },
      "source": [
        "> *Since the analysis has potential bias in the year the data was collected, we can adjust the year the data was collected to a later time. This allows companies to view a more relevant analysis of the flights and delays that year. We can also pay more attention to the weather that is out of the control of the airports because although that may cause a delay it not really a fixable action airlines, airports, or even customers can affect or predict.*"
      ]
    },
    {
      "cell_type": "markdown",
      "metadata": {
        "id": "YYY7lk55MgdX"
      },
      "source": [
        "**Mitigating Bias Downstream**\n",
        "\n",
        "While analysis can point to suggestions, it is people who make decisions based on them. What processes and/or rules should be in place for people and systems interpreting and acting on the results of your analysis to reduce the bias? Describe these below."
      ]
    },
    {
      "cell_type": "markdown",
      "metadata": {
        "id": "Mp3TkmalNcR-"
      },
      "source": [
        "> *Since the analysis has potential bias that includes: year that data was collected, time of the day delays take place, and lastly, the delays caused by weather; we can implement processes that could reduce the biases. For example, we would suggest collecting the data within reasonable time period maybe every 1-3 years. This way we have a relevent dataset to look at when asking for changes. We suggest not counting delays that took place in the middle of the day and caused less than 20 minutes shift in depart time. As those delays are not as important as others. Lasly, we would suggest not counting delays caused by weather at all because airlines and airports can't affect them.*"
      ]
    }
  ],
  "metadata": {
    "colab": {
      "collapsed_sections": [
        "jx_FnF6HFucc",
        "7neYzA5-HdRN",
        "imwAtPKW_IFO",
        "fs8m9RgcuIoJ",
        "RUYfs7-QuSdF"
      ],
      "name": "colab.ipynb",
      "private_outputs": true,
      "provenance": []
    },
    "kernelspec": {
      "display_name": "Python 3",
      "name": "python3"
    }
  },
  "nbformat": 4,
  "nbformat_minor": 0
}
